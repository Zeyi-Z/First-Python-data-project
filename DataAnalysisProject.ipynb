{
  "nbformat": 4,
  "nbformat_minor": 0,
  "metadata": {
    "colab": {
      "provenance": []
    },
    "kernelspec": {
      "name": "python3",
      "display_name": "Python 3"
    },
    "language_info": {
      "name": "python"
    }
  },
  "cells": [
    {
      "cell_type": "markdown",
      "source": [
        "# 1. Data Import (Using API Code)"
      ],
      "metadata": {
        "id": "Z2kadAL1N90v"
      }
    },
    {
      "cell_type": "code",
      "source": [
        "import pandas as pd\n",
        "import matplotlib.pyplot as plt\n",
        "import numpy as np"
      ],
      "metadata": {
        "id": "9lNylxmdStDK"
      },
      "execution_count": null,
      "outputs": []
    },
    {
      "cell_type": "code",
      "execution_count": null,
      "metadata": {
        "colab": {
          "base_uri": "https://localhost:8080/"
        },
        "id": "21bpfdTkQCyv",
        "outputId": "a2309234-a665-4cdd-fc39-265f5b489bd8"
      },
      "outputs": [
        {
          "output_type": "stream",
          "name": "stdout",
          "text": [
            "Requirement already satisfied: kaggle in /usr/local/lib/python3.10/dist-packages (1.6.12)\n",
            "Requirement already satisfied: six>=1.10 in /usr/local/lib/python3.10/dist-packages (from kaggle) (1.16.0)\n",
            "Requirement already satisfied: certifi>=2023.7.22 in /usr/local/lib/python3.10/dist-packages (from kaggle) (2024.2.2)\n",
            "Requirement already satisfied: python-dateutil in /usr/local/lib/python3.10/dist-packages (from kaggle) (2.8.2)\n",
            "Requirement already satisfied: requests in /usr/local/lib/python3.10/dist-packages (from kaggle) (2.31.0)\n",
            "Requirement already satisfied: tqdm in /usr/local/lib/python3.10/dist-packages (from kaggle) (4.66.4)\n",
            "Requirement already satisfied: python-slugify in /usr/local/lib/python3.10/dist-packages (from kaggle) (8.0.4)\n",
            "Requirement already satisfied: urllib3 in /usr/local/lib/python3.10/dist-packages (from kaggle) (2.0.7)\n",
            "Requirement already satisfied: bleach in /usr/local/lib/python3.10/dist-packages (from kaggle) (6.1.0)\n",
            "Requirement already satisfied: webencodings in /usr/local/lib/python3.10/dist-packages (from bleach->kaggle) (0.5.1)\n",
            "Requirement already satisfied: text-unidecode>=1.3 in /usr/local/lib/python3.10/dist-packages (from python-slugify->kaggle) (1.3)\n",
            "Requirement already satisfied: charset-normalizer<4,>=2 in /usr/local/lib/python3.10/dist-packages (from requests->kaggle) (3.3.2)\n",
            "Requirement already satisfied: idna<4,>=2.5 in /usr/local/lib/python3.10/dist-packages (from requests->kaggle) (3.7)\n"
          ]
        }
      ],
      "source": [
        "!pip install kaggle"
      ]
    },
    {
      "cell_type": "code",
      "source": [
        "outfile = open(\"kaggle.json\",\"w\")\n",
        "outfile.write('{\"username\":\"amranhussain75\",\"key\":\"7fcfaee508438828c78f66160f0b87a8\"}')\n",
        "outfile.close()"
      ],
      "metadata": {
        "id": "orYKfEE5RJt2"
      },
      "execution_count": null,
      "outputs": []
    },
    {
      "cell_type": "code",
      "source": [
        "!ls"
      ],
      "metadata": {
        "colab": {
          "base_uri": "https://localhost:8080/"
        },
        "id": "ZBiGEDobROqz",
        "outputId": "637e5ed0-2d30-41c5-d739-5c019d5c29c3"
      },
      "execution_count": null,
      "outputs": [
        {
          "output_type": "stream",
          "name": "stdout",
          "text": [
            "kaggle.json  sample_data\n"
          ]
        }
      ]
    },
    {
      "cell_type": "code",
      "source": [
        "!mkdir /root/.kaggle\n",
        "!mv kaggle.json /root/.kaggle\n",
        "!chmod 600 /root/.kaggle/kaggle.json"
      ],
      "metadata": {
        "id": "FwPJ8QyvRhAE"
      },
      "execution_count": null,
      "outputs": []
    },
    {
      "cell_type": "code",
      "source": [
        "!ls /root/.kaggle"
      ],
      "metadata": {
        "colab": {
          "base_uri": "https://localhost:8080/"
        },
        "id": "RJRz7DMoRk9r",
        "outputId": "481734c0-c62a-4b1b-acdc-e44d0916f50d"
      },
      "execution_count": null,
      "outputs": [
        {
          "output_type": "stream",
          "name": "stdout",
          "text": [
            "kaggle.json\n"
          ]
        }
      ]
    },
    {
      "cell_type": "code",
      "source": [
        "from kaggle.api.kaggle_api_extended import KaggleApi\n",
        "api = KaggleApi()\n",
        "api.authenticate()"
      ],
      "metadata": {
        "id": "7oYJDRkWRzkJ"
      },
      "execution_count": null,
      "outputs": []
    },
    {
      "cell_type": "code",
      "source": [
        "api.dataset_download_file(\"amranhussain75/data-analysis-project\",\"DataAnalysis Project.xlsx\")"
      ],
      "metadata": {
        "id": "15tPhItiSLW1",
        "colab": {
          "base_uri": "https://localhost:8080/"
        },
        "outputId": "401a9739-756b-4f50-d70e-052f0c52aca0"
      },
      "execution_count": null,
      "outputs": [
        {
          "output_type": "stream",
          "name": "stdout",
          "text": [
            "Dataset URL: https://www.kaggle.com/datasets/amranhussain75/data-analysis-project\n"
          ]
        },
        {
          "output_type": "execute_result",
          "data": {
            "text/plain": [
              "True"
            ]
          },
          "metadata": {},
          "execution_count": 8
        }
      ]
    },
    {
      "cell_type": "code",
      "source": [
        "!ls"
      ],
      "metadata": {
        "colab": {
          "base_uri": "https://localhost:8080/"
        },
        "id": "Z3-T42sNSmVC",
        "outputId": "25d0b078-eab0-46ed-fd73-8f1204582159"
      },
      "execution_count": null,
      "outputs": [
        {
          "output_type": "stream",
          "name": "stdout",
          "text": [
            "DataAnalysis%20Project.xlsx  sample_data\n"
          ]
        }
      ]
    },
    {
      "cell_type": "markdown",
      "source": [
        "# 2. Data Clean-Up\n",
        "\n"
      ],
      "metadata": {
        "id": "6p0-RsS3O_MG"
      }
    },
    {
      "cell_type": "code",
      "source": [
        "# Load the dataset\n",
        "data = pd.read_excel('DataAnalysis%20Project.xlsx', sheet_name='Clean Data')\n",
        "\n"
      ],
      "metadata": {
        "id": "fSZ_YiQ0SwQF"
      },
      "execution_count": null,
      "outputs": []
    },
    {
      "cell_type": "code",
      "source": [
        "# to replace pg from the age column as part of clean up\n",
        "data.replace(\"pg\", 8, inplace=True)\n",
        "data.to_csv('modified_file.csv', index=False)\n",
        "\n",
        "# This is to correct the erroneous run times\n",
        "column_A_dtype = data['runtime'].dtype\n",
        "data['runtime'].replace({\"4,393 min\":\"53 min\",\"1,164 min\":\"50 min\",\"572 min\":\"56 min\",\"386 min\":\"36 min\",\"370 min\":\"95 min\",\"356 min\":\"44 min\"}, inplace=True)\n",
        "data\n",
        "#Data cleaning is complete"
      ],
      "metadata": {
        "id": "63zOlHogzH9L",
        "colab": {
          "base_uri": "https://localhost:8080/",
          "height": 424
        },
        "outputId": "7fc6ebcf-0380-47ce-cba1-3c4eb6cb0cf4"
      },
      "execution_count": null,
      "outputs": [
        {
          "output_type": "execute_result",
          "data": {
            "text/plain": [
              "    Serial Number                     Name certificate (age app) runtime  \\\n",
              "0               1          Stranger Things                    15  60 min   \n",
              "1               2           13 Reasons Why                    18  60 min   \n",
              "2               3  Orange Is the New Black                    18  59 min   \n",
              "3               4             Black Mirror                    18  60 min   \n",
              "4               5              Money Heist                    15  60 min   \n",
              "..            ...                      ...                   ...     ...   \n",
              "75             76          F Is for Family                    15  30 min   \n",
              "76             77                The Ranch                    15  30 min   \n",
              "77             78          American Vandal                    15  34 min   \n",
              "78             79               Dead to Me                    15  30 min   \n",
              "79             80                Quicksand                    18  45 min   \n",
              "\n",
              "                       genre  rating    votes  \n",
              "0     Drama, Fantasy, Horror     8.7  1327188  \n",
              "1   Drama, Mystery, Thriller     7.5   314321  \n",
              "2       Comedy, Crime, Drama     8.0   319342  \n",
              "3     Drama, Mystery, Sci-Fi     8.7   636319  \n",
              "4       Action, Crime, Drama     8.2   529086  \n",
              "..                       ...     ...      ...  \n",
              "75  Animation, Comedy, Drama     8.0    41074  \n",
              "76    Comedy, Drama, Western     7.5    42401  \n",
              "77      Comedy, Crime, Drama     8.1    32985  \n",
              "78      Comedy, Crime, Drama     7.9    99440  \n",
              "79     Crime, Drama, Mystery     7.4    25507  \n",
              "\n",
              "[80 rows x 7 columns]"
            ],
            "text/html": [
              "\n",
              "  <div id=\"df-e58e32e3-59aa-4a16-abae-a5bb8b128cbd\" class=\"colab-df-container\">\n",
              "    <div>\n",
              "<style scoped>\n",
              "    .dataframe tbody tr th:only-of-type {\n",
              "        vertical-align: middle;\n",
              "    }\n",
              "\n",
              "    .dataframe tbody tr th {\n",
              "        vertical-align: top;\n",
              "    }\n",
              "\n",
              "    .dataframe thead th {\n",
              "        text-align: right;\n",
              "    }\n",
              "</style>\n",
              "<table border=\"1\" class=\"dataframe\">\n",
              "  <thead>\n",
              "    <tr style=\"text-align: right;\">\n",
              "      <th></th>\n",
              "      <th>Serial Number</th>\n",
              "      <th>Name</th>\n",
              "      <th>certificate (age app)</th>\n",
              "      <th>runtime</th>\n",
              "      <th>genre</th>\n",
              "      <th>rating</th>\n",
              "      <th>votes</th>\n",
              "    </tr>\n",
              "  </thead>\n",
              "  <tbody>\n",
              "    <tr>\n",
              "      <th>0</th>\n",
              "      <td>1</td>\n",
              "      <td>Stranger Things</td>\n",
              "      <td>15</td>\n",
              "      <td>60 min</td>\n",
              "      <td>Drama, Fantasy, Horror</td>\n",
              "      <td>8.7</td>\n",
              "      <td>1327188</td>\n",
              "    </tr>\n",
              "    <tr>\n",
              "      <th>1</th>\n",
              "      <td>2</td>\n",
              "      <td>13 Reasons Why</td>\n",
              "      <td>18</td>\n",
              "      <td>60 min</td>\n",
              "      <td>Drama, Mystery, Thriller</td>\n",
              "      <td>7.5</td>\n",
              "      <td>314321</td>\n",
              "    </tr>\n",
              "    <tr>\n",
              "      <th>2</th>\n",
              "      <td>3</td>\n",
              "      <td>Orange Is the New Black</td>\n",
              "      <td>18</td>\n",
              "      <td>59 min</td>\n",
              "      <td>Comedy, Crime, Drama</td>\n",
              "      <td>8.0</td>\n",
              "      <td>319342</td>\n",
              "    </tr>\n",
              "    <tr>\n",
              "      <th>3</th>\n",
              "      <td>4</td>\n",
              "      <td>Black Mirror</td>\n",
              "      <td>18</td>\n",
              "      <td>60 min</td>\n",
              "      <td>Drama, Mystery, Sci-Fi</td>\n",
              "      <td>8.7</td>\n",
              "      <td>636319</td>\n",
              "    </tr>\n",
              "    <tr>\n",
              "      <th>4</th>\n",
              "      <td>5</td>\n",
              "      <td>Money Heist</td>\n",
              "      <td>15</td>\n",
              "      <td>60 min</td>\n",
              "      <td>Action, Crime, Drama</td>\n",
              "      <td>8.2</td>\n",
              "      <td>529086</td>\n",
              "    </tr>\n",
              "    <tr>\n",
              "      <th>...</th>\n",
              "      <td>...</td>\n",
              "      <td>...</td>\n",
              "      <td>...</td>\n",
              "      <td>...</td>\n",
              "      <td>...</td>\n",
              "      <td>...</td>\n",
              "      <td>...</td>\n",
              "    </tr>\n",
              "    <tr>\n",
              "      <th>75</th>\n",
              "      <td>76</td>\n",
              "      <td>F Is for Family</td>\n",
              "      <td>15</td>\n",
              "      <td>30 min</td>\n",
              "      <td>Animation, Comedy, Drama</td>\n",
              "      <td>8.0</td>\n",
              "      <td>41074</td>\n",
              "    </tr>\n",
              "    <tr>\n",
              "      <th>76</th>\n",
              "      <td>77</td>\n",
              "      <td>The Ranch</td>\n",
              "      <td>15</td>\n",
              "      <td>30 min</td>\n",
              "      <td>Comedy, Drama, Western</td>\n",
              "      <td>7.5</td>\n",
              "      <td>42401</td>\n",
              "    </tr>\n",
              "    <tr>\n",
              "      <th>77</th>\n",
              "      <td>78</td>\n",
              "      <td>American Vandal</td>\n",
              "      <td>15</td>\n",
              "      <td>34 min</td>\n",
              "      <td>Comedy, Crime, Drama</td>\n",
              "      <td>8.1</td>\n",
              "      <td>32985</td>\n",
              "    </tr>\n",
              "    <tr>\n",
              "      <th>78</th>\n",
              "      <td>79</td>\n",
              "      <td>Dead to Me</td>\n",
              "      <td>15</td>\n",
              "      <td>30 min</td>\n",
              "      <td>Comedy, Crime, Drama</td>\n",
              "      <td>7.9</td>\n",
              "      <td>99440</td>\n",
              "    </tr>\n",
              "    <tr>\n",
              "      <th>79</th>\n",
              "      <td>80</td>\n",
              "      <td>Quicksand</td>\n",
              "      <td>18</td>\n",
              "      <td>45 min</td>\n",
              "      <td>Crime, Drama, Mystery</td>\n",
              "      <td>7.4</td>\n",
              "      <td>25507</td>\n",
              "    </tr>\n",
              "  </tbody>\n",
              "</table>\n",
              "<p>80 rows × 7 columns</p>\n",
              "</div>\n",
              "    <div class=\"colab-df-buttons\">\n",
              "\n",
              "  <div class=\"colab-df-container\">\n",
              "    <button class=\"colab-df-convert\" onclick=\"convertToInteractive('df-e58e32e3-59aa-4a16-abae-a5bb8b128cbd')\"\n",
              "            title=\"Convert this dataframe to an interactive table.\"\n",
              "            style=\"display:none;\">\n",
              "\n",
              "  <svg xmlns=\"http://www.w3.org/2000/svg\" height=\"24px\" viewBox=\"0 -960 960 960\">\n",
              "    <path d=\"M120-120v-720h720v720H120Zm60-500h600v-160H180v160Zm220 220h160v-160H400v160Zm0 220h160v-160H400v160ZM180-400h160v-160H180v160Zm440 0h160v-160H620v160ZM180-180h160v-160H180v160Zm440 0h160v-160H620v160Z\"/>\n",
              "  </svg>\n",
              "    </button>\n",
              "\n",
              "  <style>\n",
              "    .colab-df-container {\n",
              "      display:flex;\n",
              "      gap: 12px;\n",
              "    }\n",
              "\n",
              "    .colab-df-convert {\n",
              "      background-color: #E8F0FE;\n",
              "      border: none;\n",
              "      border-radius: 50%;\n",
              "      cursor: pointer;\n",
              "      display: none;\n",
              "      fill: #1967D2;\n",
              "      height: 32px;\n",
              "      padding: 0 0 0 0;\n",
              "      width: 32px;\n",
              "    }\n",
              "\n",
              "    .colab-df-convert:hover {\n",
              "      background-color: #E2EBFA;\n",
              "      box-shadow: 0px 1px 2px rgba(60, 64, 67, 0.3), 0px 1px 3px 1px rgba(60, 64, 67, 0.15);\n",
              "      fill: #174EA6;\n",
              "    }\n",
              "\n",
              "    .colab-df-buttons div {\n",
              "      margin-bottom: 4px;\n",
              "    }\n",
              "\n",
              "    [theme=dark] .colab-df-convert {\n",
              "      background-color: #3B4455;\n",
              "      fill: #D2E3FC;\n",
              "    }\n",
              "\n",
              "    [theme=dark] .colab-df-convert:hover {\n",
              "      background-color: #434B5C;\n",
              "      box-shadow: 0px 1px 3px 1px rgba(0, 0, 0, 0.15);\n",
              "      filter: drop-shadow(0px 1px 2px rgba(0, 0, 0, 0.3));\n",
              "      fill: #FFFFFF;\n",
              "    }\n",
              "  </style>\n",
              "\n",
              "    <script>\n",
              "      const buttonEl =\n",
              "        document.querySelector('#df-e58e32e3-59aa-4a16-abae-a5bb8b128cbd button.colab-df-convert');\n",
              "      buttonEl.style.display =\n",
              "        google.colab.kernel.accessAllowed ? 'block' : 'none';\n",
              "\n",
              "      async function convertToInteractive(key) {\n",
              "        const element = document.querySelector('#df-e58e32e3-59aa-4a16-abae-a5bb8b128cbd');\n",
              "        const dataTable =\n",
              "          await google.colab.kernel.invokeFunction('convertToInteractive',\n",
              "                                                    [key], {});\n",
              "        if (!dataTable) return;\n",
              "\n",
              "        const docLinkHtml = 'Like what you see? Visit the ' +\n",
              "          '<a target=\"_blank\" href=https://colab.research.google.com/notebooks/data_table.ipynb>data table notebook</a>'\n",
              "          + ' to learn more about interactive tables.';\n",
              "        element.innerHTML = '';\n",
              "        dataTable['output_type'] = 'display_data';\n",
              "        await google.colab.output.renderOutput(dataTable, element);\n",
              "        const docLink = document.createElement('div');\n",
              "        docLink.innerHTML = docLinkHtml;\n",
              "        element.appendChild(docLink);\n",
              "      }\n",
              "    </script>\n",
              "  </div>\n",
              "\n",
              "\n",
              "<div id=\"df-52a7d94b-cb12-4475-b597-4a6e3514ddd3\">\n",
              "  <button class=\"colab-df-quickchart\" onclick=\"quickchart('df-52a7d94b-cb12-4475-b597-4a6e3514ddd3')\"\n",
              "            title=\"Suggest charts\"\n",
              "            style=\"display:none;\">\n",
              "\n",
              "<svg xmlns=\"http://www.w3.org/2000/svg\" height=\"24px\"viewBox=\"0 0 24 24\"\n",
              "     width=\"24px\">\n",
              "    <g>\n",
              "        <path d=\"M19 3H5c-1.1 0-2 .9-2 2v14c0 1.1.9 2 2 2h14c1.1 0 2-.9 2-2V5c0-1.1-.9-2-2-2zM9 17H7v-7h2v7zm4 0h-2V7h2v10zm4 0h-2v-4h2v4z\"/>\n",
              "    </g>\n",
              "</svg>\n",
              "  </button>\n",
              "\n",
              "<style>\n",
              "  .colab-df-quickchart {\n",
              "      --bg-color: #E8F0FE;\n",
              "      --fill-color: #1967D2;\n",
              "      --hover-bg-color: #E2EBFA;\n",
              "      --hover-fill-color: #174EA6;\n",
              "      --disabled-fill-color: #AAA;\n",
              "      --disabled-bg-color: #DDD;\n",
              "  }\n",
              "\n",
              "  [theme=dark] .colab-df-quickchart {\n",
              "      --bg-color: #3B4455;\n",
              "      --fill-color: #D2E3FC;\n",
              "      --hover-bg-color: #434B5C;\n",
              "      --hover-fill-color: #FFFFFF;\n",
              "      --disabled-bg-color: #3B4455;\n",
              "      --disabled-fill-color: #666;\n",
              "  }\n",
              "\n",
              "  .colab-df-quickchart {\n",
              "    background-color: var(--bg-color);\n",
              "    border: none;\n",
              "    border-radius: 50%;\n",
              "    cursor: pointer;\n",
              "    display: none;\n",
              "    fill: var(--fill-color);\n",
              "    height: 32px;\n",
              "    padding: 0;\n",
              "    width: 32px;\n",
              "  }\n",
              "\n",
              "  .colab-df-quickchart:hover {\n",
              "    background-color: var(--hover-bg-color);\n",
              "    box-shadow: 0 1px 2px rgba(60, 64, 67, 0.3), 0 1px 3px 1px rgba(60, 64, 67, 0.15);\n",
              "    fill: var(--button-hover-fill-color);\n",
              "  }\n",
              "\n",
              "  .colab-df-quickchart-complete:disabled,\n",
              "  .colab-df-quickchart-complete:disabled:hover {\n",
              "    background-color: var(--disabled-bg-color);\n",
              "    fill: var(--disabled-fill-color);\n",
              "    box-shadow: none;\n",
              "  }\n",
              "\n",
              "  .colab-df-spinner {\n",
              "    border: 2px solid var(--fill-color);\n",
              "    border-color: transparent;\n",
              "    border-bottom-color: var(--fill-color);\n",
              "    animation:\n",
              "      spin 1s steps(1) infinite;\n",
              "  }\n",
              "\n",
              "  @keyframes spin {\n",
              "    0% {\n",
              "      border-color: transparent;\n",
              "      border-bottom-color: var(--fill-color);\n",
              "      border-left-color: var(--fill-color);\n",
              "    }\n",
              "    20% {\n",
              "      border-color: transparent;\n",
              "      border-left-color: var(--fill-color);\n",
              "      border-top-color: var(--fill-color);\n",
              "    }\n",
              "    30% {\n",
              "      border-color: transparent;\n",
              "      border-left-color: var(--fill-color);\n",
              "      border-top-color: var(--fill-color);\n",
              "      border-right-color: var(--fill-color);\n",
              "    }\n",
              "    40% {\n",
              "      border-color: transparent;\n",
              "      border-right-color: var(--fill-color);\n",
              "      border-top-color: var(--fill-color);\n",
              "    }\n",
              "    60% {\n",
              "      border-color: transparent;\n",
              "      border-right-color: var(--fill-color);\n",
              "    }\n",
              "    80% {\n",
              "      border-color: transparent;\n",
              "      border-right-color: var(--fill-color);\n",
              "      border-bottom-color: var(--fill-color);\n",
              "    }\n",
              "    90% {\n",
              "      border-color: transparent;\n",
              "      border-bottom-color: var(--fill-color);\n",
              "    }\n",
              "  }\n",
              "</style>\n",
              "\n",
              "  <script>\n",
              "    async function quickchart(key) {\n",
              "      const quickchartButtonEl =\n",
              "        document.querySelector('#' + key + ' button');\n",
              "      quickchartButtonEl.disabled = true;  // To prevent multiple clicks.\n",
              "      quickchartButtonEl.classList.add('colab-df-spinner');\n",
              "      try {\n",
              "        const charts = await google.colab.kernel.invokeFunction(\n",
              "            'suggestCharts', [key], {});\n",
              "      } catch (error) {\n",
              "        console.error('Error during call to suggestCharts:', error);\n",
              "      }\n",
              "      quickchartButtonEl.classList.remove('colab-df-spinner');\n",
              "      quickchartButtonEl.classList.add('colab-df-quickchart-complete');\n",
              "    }\n",
              "    (() => {\n",
              "      let quickchartButtonEl =\n",
              "        document.querySelector('#df-52a7d94b-cb12-4475-b597-4a6e3514ddd3 button');\n",
              "      quickchartButtonEl.style.display =\n",
              "        google.colab.kernel.accessAllowed ? 'block' : 'none';\n",
              "    })();\n",
              "  </script>\n",
              "</div>\n",
              "\n",
              "  <div id=\"id_611832da-7eed-41eb-83cc-0704e51fbde3\">\n",
              "    <style>\n",
              "      .colab-df-generate {\n",
              "        background-color: #E8F0FE;\n",
              "        border: none;\n",
              "        border-radius: 50%;\n",
              "        cursor: pointer;\n",
              "        display: none;\n",
              "        fill: #1967D2;\n",
              "        height: 32px;\n",
              "        padding: 0 0 0 0;\n",
              "        width: 32px;\n",
              "      }\n",
              "\n",
              "      .colab-df-generate:hover {\n",
              "        background-color: #E2EBFA;\n",
              "        box-shadow: 0px 1px 2px rgba(60, 64, 67, 0.3), 0px 1px 3px 1px rgba(60, 64, 67, 0.15);\n",
              "        fill: #174EA6;\n",
              "      }\n",
              "\n",
              "      [theme=dark] .colab-df-generate {\n",
              "        background-color: #3B4455;\n",
              "        fill: #D2E3FC;\n",
              "      }\n",
              "\n",
              "      [theme=dark] .colab-df-generate:hover {\n",
              "        background-color: #434B5C;\n",
              "        box-shadow: 0px 1px 3px 1px rgba(0, 0, 0, 0.15);\n",
              "        filter: drop-shadow(0px 1px 2px rgba(0, 0, 0, 0.3));\n",
              "        fill: #FFFFFF;\n",
              "      }\n",
              "    </style>\n",
              "    <button class=\"colab-df-generate\" onclick=\"generateWithVariable('data')\"\n",
              "            title=\"Generate code using this dataframe.\"\n",
              "            style=\"display:none;\">\n",
              "\n",
              "  <svg xmlns=\"http://www.w3.org/2000/svg\" height=\"24px\"viewBox=\"0 0 24 24\"\n",
              "       width=\"24px\">\n",
              "    <path d=\"M7,19H8.4L18.45,9,17,7.55,7,17.6ZM5,21V16.75L18.45,3.32a2,2,0,0,1,2.83,0l1.4,1.43a1.91,1.91,0,0,1,.58,1.4,1.91,1.91,0,0,1-.58,1.4L9.25,21ZM18.45,9,17,7.55Zm-12,3A5.31,5.31,0,0,0,4.9,8.1,5.31,5.31,0,0,0,1,6.5,5.31,5.31,0,0,0,4.9,4.9,5.31,5.31,0,0,0,6.5,1,5.31,5.31,0,0,0,8.1,4.9,5.31,5.31,0,0,0,12,6.5,5.46,5.46,0,0,0,6.5,12Z\"/>\n",
              "  </svg>\n",
              "    </button>\n",
              "    <script>\n",
              "      (() => {\n",
              "      const buttonEl =\n",
              "        document.querySelector('#id_611832da-7eed-41eb-83cc-0704e51fbde3 button.colab-df-generate');\n",
              "      buttonEl.style.display =\n",
              "        google.colab.kernel.accessAllowed ? 'block' : 'none';\n",
              "\n",
              "      buttonEl.onclick = () => {\n",
              "        google.colab.notebook.generateWithVariable('data');\n",
              "      }\n",
              "      })();\n",
              "    </script>\n",
              "  </div>\n",
              "\n",
              "    </div>\n",
              "  </div>\n"
            ],
            "application/vnd.google.colaboratory.intrinsic+json": {
              "type": "dataframe",
              "variable_name": "data",
              "summary": "{\n  \"name\": \"data\",\n  \"rows\": 80,\n  \"fields\": [\n    {\n      \"column\": \"Serial Number\",\n      \"properties\": {\n        \"dtype\": \"number\",\n        \"std\": 23,\n        \"min\": 1,\n        \"max\": 80,\n        \"num_unique_values\": 80,\n        \"samples\": [\n          31,\n          1,\n          23\n        ],\n        \"semantic_type\": \"\",\n        \"description\": \"\"\n      }\n    },\n    {\n      \"column\": \"Name\",\n      \"properties\": {\n        \"dtype\": \"string\",\n        \"num_unique_values\": 80,\n        \"samples\": [\n          0.03,\n          \"Stranger Things\",\n          \"Atypical\"\n        ],\n        \"semantic_type\": \"\",\n        \"description\": \"\"\n      }\n    },\n    {\n      \"column\": \"certificate (age app)\",\n      \"properties\": {\n        \"dtype\": \"category\",\n        \"num_unique_values\": 4,\n        \"samples\": [\n          18,\n          \"PG\",\n          15\n        ],\n        \"semantic_type\": \"\",\n        \"description\": \"\"\n      }\n    },\n    {\n      \"column\": \"runtime\",\n      \"properties\": {\n        \"dtype\": \"category\",\n        \"num_unique_values\": 25,\n        \"samples\": [\n          \"30 min\",\n          \"44 min\",\n          \"60 min\"\n        ],\n        \"semantic_type\": \"\",\n        \"description\": \"\"\n      }\n    },\n    {\n      \"column\": \"genre\",\n      \"properties\": {\n        \"dtype\": \"string\",\n        \"num_unique_values\": 44,\n        \"samples\": [\n          \"Comedy, Romance\",\n          \"Comedy, Horror\",\n          \"Animation, Action, Adventure\"\n        ],\n        \"semantic_type\": \"\",\n        \"description\": \"\"\n      }\n    },\n    {\n      \"column\": \"rating\",\n      \"properties\": {\n        \"dtype\": \"number\",\n        \"std\": 0.7123503618126992,\n        \"min\": 5.9,\n        \"max\": 8.8,\n        \"num_unique_values\": 27,\n        \"samples\": [\n          8.3,\n          8.4,\n          7.2\n        ],\n        \"semantic_type\": \"\",\n        \"description\": \"\"\n      }\n    },\n    {\n      \"column\": \"votes\",\n      \"properties\": {\n        \"dtype\": \"number\",\n        \"std\": 197426,\n        \"min\": 5910,\n        \"max\": 1327188,\n        \"num_unique_values\": 80,\n        \"samples\": [\n          28008,\n          1327188,\n          103009\n        ],\n        \"semantic_type\": \"\",\n        \"description\": \"\"\n      }\n    }\n  ]\n}"
            }
          },
          "metadata": {},
          "execution_count": 11
        }
      ]
    },
    {
      "cell_type": "markdown",
      "source": [
        "# 3. Statistical Analysis\n",
        "\n"
      ],
      "metadata": {
        "id": "04k1rr08J6Hc"
      }
    },
    {
      "cell_type": "code",
      "source": [
        "# Step 3: Statistical Analysis\n",
        "# Count(s)\n",
        "count = data.count()\n",
        "\n",
        "# Display results\n",
        "print(\"Count(s):\")\n",
        "print(count)"
      ],
      "metadata": {
        "id": "MVBGx2rPrcHL",
        "colab": {
          "base_uri": "https://localhost:8080/"
        },
        "outputId": "7c54b2c1-0592-47e0-ff1b-80ccc34f0ca3"
      },
      "execution_count": null,
      "outputs": [
        {
          "output_type": "stream",
          "name": "stdout",
          "text": [
            "Count(s):\n",
            "Serial Number            80\n",
            "Name                     80\n",
            "certificate (age app)    80\n",
            "runtime                  80\n",
            "genre                    80\n",
            "rating                   80\n",
            "votes                    80\n",
            "dtype: int64\n"
          ]
        }
      ]
    },
    {
      "cell_type": "code",
      "source": [
        "# Min, max, range\n",
        "# Converting runtime to float by removing commas and omitting \"min\"\n",
        "if data['runtime'].dtype != 'object':\n",
        "    data['runtime'] = data['runtime'].astype(str)\n",
        "\n",
        "data['runtime'] = data['runtime'].str.replace(',', '').str.replace(' min', '').astype(float)\n",
        "\n",
        "# Converting 'certificate (age app)' to numeric by removing any non-numeric characters\n",
        "data['certificate (age app)'] = pd.to_numeric(data['certificate (age app)'], errors='coerce')\n",
        "\n",
        "# Selecting numeric columns\n",
        "numcolumns = data.select_dtypes(include=['int64', 'float64']).columns\n",
        "\n",
        "# Calculating Min, Max, and Range for each numeric column\n",
        "min = data[numcolumns].min()\n",
        "max = data[numcolumns].max()\n",
        "range = max - min\n",
        "\n",
        "# Print results\n",
        "for col in numcolumns:\n",
        "    print(f\"{col}:\")\n",
        "    print(f\"  Min: {min[col]}\")\n",
        "    print(f\"  Max: {max[col]}\")\n",
        "    print(f\"  Range: {range[col]}\")\n"
      ],
      "metadata": {
        "colab": {
          "base_uri": "https://localhost:8080/"
        },
        "id": "Gdk8BLg5tTIz",
        "outputId": "7c691035-1c8e-4cbc-d883-a94f30f0b323"
      },
      "execution_count": null,
      "outputs": [
        {
          "output_type": "stream",
          "name": "stdout",
          "text": [
            "Serial Number:\n",
            "  Min: 1.0\n",
            "  Max: 80.0\n",
            "  Range: 79.0\n",
            "certificate (age app):\n",
            "  Min: 12.0\n",
            "  Max: 18.0\n",
            "  Range: 6.0\n",
            "runtime:\n",
            "  Min: 15.0\n",
            "  Max: 95.0\n",
            "  Range: 80.0\n",
            "rating:\n",
            "  Min: 5.9\n",
            "  Max: 8.8\n",
            "  Range: 2.9000000000000004\n",
            "votes:\n",
            "  Min: 5910.0\n",
            "  Max: 1327188.0\n",
            "  Range: 1321278.0\n"
          ]
        }
      ]
    },
    {
      "cell_type": "code",
      "source": [
        "# Standard deviation\n",
        "# Select only numeric columns\n",
        "numeric_data = data.select_dtypes(include=np.number)\n",
        "\n",
        "std_dev = numeric_data.std()\n",
        "print(\"\\nStandard deviation:\")\n",
        "print(std_dev)"
      ],
      "metadata": {
        "colab": {
          "base_uri": "https://localhost:8080/"
        },
        "id": "Jf0_nDWvFyMT",
        "outputId": "9ba0622e-58fe-4ce1-fde0-d3e8e24b4a03"
      },
      "execution_count": null,
      "outputs": [
        {
          "output_type": "stream",
          "name": "stdout",
          "text": [
            "\n",
            "Standard deviation:\n",
            "Serial Number                23.237900\n",
            "certificate (age app)         1.564734\n",
            "runtime                      14.822873\n",
            "rating                        0.712350\n",
            "votes                    197426.097298\n",
            "dtype: float64\n"
          ]
        }
      ]
    },
    {
      "cell_type": "code",
      "source": [
        "# Distribution of the numeric columns\n",
        "# Removing 'Serial Number' column\n",
        "data.drop('Serial Number', axis=1, inplace=True)\n",
        "\n",
        "# Converting runtime to float by removing commas and omitting \"min\"\n",
        "if data['runtime'].dtype != 'object':\n",
        "    data['runtime'] = data['runtime'].astype(str)\n",
        "\n",
        "data['runtime'] = data['runtime'].str.replace(',', '').str.replace(' min', '').astype(float)\n",
        "\n",
        "# Converting 'certificate (age app)' to numeric by removing any non-numeric characters\n",
        "data['certificate (age app)'] = pd.to_numeric(data['certificate (age app)'], errors='coerce')\n",
        "\n",
        "# Select numeric columns\n",
        "numeric_columns = data.select_dtypes(include=['int64', 'float64']).columns\n",
        "\n",
        "# Plot histograms for each numeric column including runtime and certificate (age app)\n",
        "for col in numeric_columns:\n",
        "    plt.figure(figsize=(8, 6))\n",
        "    plt.hist(data[col], bins=20, color='skyblue', edgecolor='black')\n",
        "    plt.title(f'Distribution of {col}')\n",
        "    plt.xlabel(col)\n",
        "    plt.ylabel('Frequency')\n",
        "    plt.grid(True)\n",
        "    plt.show()"
      ],
      "metadata": {
        "colab": {
          "base_uri": "https://localhost:8080/",
          "height": 1000
        },
        "id": "9fjjFQI_i0nq",
        "outputId": "84f6b635-99c2-4d85-ac02-df566267f142"
      },
      "execution_count": null,
      "outputs": [
        {
          "output_type": "display_data",
          "data": {
            "text/plain": [
              "<Figure size 800x600 with 1 Axes>"
            ],
            "image/png": "[encoded data removed]"
          },
          "metadata": {}
        },
        {
          "output_type": "display_data",
          "data": {
            "text/plain": [
              "<Figure size 800x600 with 1 Axes>"
            ],
            "image/png": "[encoded data removed]"
          },
          "metadata": {}
        },
        {
          "output_type": "display_data",
          "data": {
            "text/plain": [
              "<Figure size 800x600 with 1 Axes>"
            ],
            "image/png": "[encoded data removed]"
          },
          "metadata": {}
        },
        {
          "output_type": "display_data",
          "data": {
            "text/plain": [
              "<Figure size 800x600 with 1 Axes>"
            ],
            "image/png": "[encoded data removed]"
          },
          "metadata": {}
        }
      ]
    },
    {
      "cell_type": "markdown",
      "source": [
        "### Outliers"
      ],
      "metadata": {
        "id": "AXpnR3EEP_wP"
      }
    },
    {
      "cell_type": "code",
      "source": [
        "# Outliers using IQR\n",
        "outliers = pd.DataFrame()\n",
        "for col in numeric_columns:\n",
        "    Q1 = data[col].quantile(0.25)\n",
        "    Q3 = data[col].quantile(0.75)\n",
        "    IQR = Q3 - Q1\n",
        "    lower_bound = Q1 - 1.5 * IQR\n",
        "    upper_bound = Q3 + 1.5 * IQR\n",
        "    col_outliers = data[(data[col] < lower_bound) | (data[col] > upper_bound)]\n",
        "    outliers = pd.concat([outliers, col_outliers], axis=0)\n",
        "\n",
        "print(\"\\nOutliers:\")\n",
        "print(outliers)"
      ],
      "metadata": {
        "id": "fjtf8e8NK7p-",
        "colab": {
          "base_uri": "https://localhost:8080/"
        },
        "outputId": "f4ccbcbc-621b-440e-9d2c-8665abb488e2"
      },
      "execution_count": null,
      "outputs": [
        {
          "output_type": "stream",
          "name": "stdout",
          "text": [
            "\n",
            "Outliers:\n",
            "               Name  certificate (age app)  runtime                   genre  \\\n",
            "0   Stranger Things                   15.0     60.0  Drama, Fantasy, Horror   \n",
            "3      Black Mirror                   18.0     60.0  Drama, Mystery, Sci-Fi   \n",
            "4       Money Heist                   15.0     60.0    Action, Crime, Drama   \n",
            "10   House of Cards                   18.0     50.0                   Drama   \n",
            "\n",
            "    rating    votes  \n",
            "0      8.7  1327188  \n",
            "3      8.7   636319  \n",
            "4      8.2   529086  \n",
            "10     8.6   529463  \n"
          ]
        }
      ]
    },
    {
      "cell_type": "markdown",
      "source": [
        "### Correlation"
      ],
      "metadata": {
        "id": "UF63BGgqQHmt"
      }
    },
    {
      "cell_type": "code",
      "source": [
        "# Correlation\n",
        "correlation_matrix = numeric_data.corr()\n",
        "print(\"\\nCorrelation matrix:\")\n",
        "print(correlation_matrix)"
      ],
      "metadata": {
        "colab": {
          "base_uri": "https://localhost:8080/"
        },
        "id": "AcE-ebcsjeck",
        "outputId": "9b7f394d-3c03-4038-8be0-c62102b0656c"
      },
      "execution_count": null,
      "outputs": [
        {
          "output_type": "stream",
          "name": "stdout",
          "text": [
            "\n",
            "Correlation matrix:\n",
            "                       Serial Number  certificate (age app)   runtime  \\\n",
            "Serial Number               1.000000              -0.080063 -0.372468   \n",
            "certificate (age app)      -0.080063               1.000000 -0.025826   \n",
            "runtime                    -0.372468              -0.025826  1.000000   \n",
            "rating                     -0.275975               0.151488  0.081518   \n",
            "votes                      -0.616414               0.184237  0.300700   \n",
            "\n",
            "                         rating     votes  \n",
            "Serial Number         -0.275975 -0.616414  \n",
            "certificate (age app)  0.151488  0.184237  \n",
            "runtime                0.081518  0.300700  \n",
            "rating                 1.000000  0.547499  \n",
            "votes                  0.547499  1.000000  \n"
          ]
        }
      ]
    },
    {
      "cell_type": "markdown",
      "source": [
        "**What are some interesting statistics about your data?**\n",
        "\n",
        "\n",
        "**Average Rating**\n",
        "\n",
        "The average rating across all TV shows in the dataset is approximately 7.72. This gives us an insight into the overall quality or reception of the TV shows included in the dataset. TV shows with ratings higher than the average can be considered more positively received by audiences.\n",
        "\n",
        "\n",
        "**Most Common Genre**\n",
        "\n",
        "The most common genre among the TV shows in the dataset is \"Comedy, Drama\". This indicates that a significant portion of the TV shows in the dataset belong to this genre combination. This insight can be valuable for content creators and streaming platforms to understand the preferences of viewers and potentially guide their content creation or recommendation strategies."
      ],
      "metadata": {
        "id": "ANkvf4pnkHux"
      }
    },
    {
      "cell_type": "code",
      "source": [
        "# Calculating the average rating and most common genre\n",
        "average_rating = data['rating'].mean()\n",
        "most_common_genre = data['genre'].mode()[0]\n",
        "\n",
        "# Show results\n",
        "print(\"Average rating:\", average_rating)\n",
        "print(\"Most common genre:\", most_common_genre)"
      ],
      "metadata": {
        "id": "Vkf6oBCKjsCJ",
        "colab": {
          "base_uri": "https://localhost:8080/"
        },
        "outputId": "6b8a0106-1ba7-455a-aa00-702efa3d5ded"
      },
      "execution_count": null,
      "outputs": [
        {
          "output_type": "stream",
          "name": "stdout",
          "text": [
            "Average rating: 7.720000000000001\n",
            "Most common genre: Comedy, Drama\n"
          ]
        }
      ]
    },
    {
      "cell_type": "markdown",
      "source": [
        "**Step 4: Visualization**\n",
        "\n"
      ],
      "metadata": {
        "id": "sV7yMJaCgDwB"
      }
    },
    {
      "cell_type": "code",
      "source": [
        "import matplotlib.pyplot as plt\n",
        "import seaborn as sns\n",
        "\n",
        "# Bar graph 1: Distribution of Certificate Age App\n",
        "plt.figure(figsize=(8, 6))\n",
        "sns.countplot(x='certificate (age app)', data=data, palette='Set2')\n",
        "plt.title('Distribution of Certificate Age App')\n",
        "plt.xlabel('certificate (age app)')\n",
        "plt.ylabel('Count')\n",
        "plt.xticks(rotation=45)\n",
        "plt.show()\n",
        "\n",
        "# Scatter plot with regression line: Relationship between Rating and Votes\n",
        "plt.figure(figsize=(10, 6))\n",
        "sns.scatterplot(x='rating', y='votes', data=data)\n",
        "sns.regplot(x='rating', y='votes', data=data, scatter=False, color='red')  # Add regression line\n",
        "plt.title('Relationship between Rating and Votes')\n",
        "plt.xlabel('Rating')\n",
        "plt.ylabel('Votes')\n",
        "plt.show()\n",
        "\n",
        "\n"
      ],
      "metadata": {
        "colab": {
          "base_uri": "https://localhost:8080/",
          "height": 1000
        },
        "id": "zWypyDAef413",
        "outputId": "c1bfd2d6-d4eb-4238-b6ad-38ae7f70878b"
      },
      "execution_count": null,
      "outputs": [
        {
          "output_type": "stream",
          "name": "stderr",
          "text": [
            "<ipython-input-27-b957dab6dcb3>:6: FutureWarning: \n",
            "\n",
            "Passing `palette` without assigning `hue` is deprecated and will be removed in v0.14.0. Assign the `x` variable to `hue` and set `legend=False` for the same effect.\n",
            "\n",
            "  sns.countplot(x='certificate (age app)', data=data, palette='Set2')\n"
          ]
        },
        {
          "output_type": "display_data",
          "data": {
            "text/plain": [
              "<Figure size 800x600 with 1 Axes>"
            ],
            "image/png": "[encoded data removed]"
          },
          "metadata": {}
        },
        {
          "output_type": "display_data",
          "data": {
            "text/plain": [
              "<Figure size 1000x600 with 1 Axes>"
            ],
            "image/png": "[encoded data removed]"
          },
          "metadata": {}
        }
      ]
    },
    {
      "cell_type": "markdown",
      "source": [
        "# 5. Exporting\n"
      ],
      "metadata": {
        "id": "NTcUl615Nxj9"
      }
    },
    {
      "cell_type": "code",
      "source": [
        "import sqlite3\n",
        "\n",
        "# Connect to SQLite database\n",
        "conn = sqlite3.connect('cleaned_data.db')\n",
        "\n",
        "# Create a cursor object to execute SQL queries\n",
        "cursor = conn.cursor()\n",
        "\n",
        "# Execute SQL query to select all rows from the 'cleaned_table'\n",
        "cursor.execute(\"SELECT * FROM cleaned_table\")\n",
        "\n",
        "# Fetch all rows from the result set\n",
        "rows = cursor.fetchall()\n",
        "\n",
        "# Print the data\n",
        "for row in rows:\n",
        "    print(row)\n",
        "\n",
        "# Close cursor and connection\n",
        "cursor.close()\n",
        "conn.close()\n"
      ],
      "metadata": {
        "id": "dId-OBbf8H7-",
        "colab": {
          "base_uri": "https://localhost:8080/"
        },
        "outputId": "f7023d2e-63cb-43ae-8dd8-4dcbbdfe475c"
      },
      "execution_count": null,
      "outputs": [
        {
          "output_type": "stream",
          "name": "stdout",
          "text": [
            "('Stranger Things', 15.0, 60.0, 'Drama, Fantasy, Horror', 8.7, 1327188)\n",
            "('13 Reasons Why', 18.0, 60.0, 'Drama, Mystery, Thriller', 7.5, 314321)\n",
            "('Orange Is the New Black', 18.0, 59.0, 'Comedy, Crime, Drama', 8.0, 319342)\n",
            "('Black Mirror', 18.0, 60.0, 'Drama, Mystery, Sci-Fi', 8.7, 636319)\n",
            "('Money Heist', 15.0, 60.0, 'Action, Crime, Drama', 8.2, 529086)\n",
            "('Lucifer', 15.0, 53.0, 'Crime, Drama, Fantasy', 8.1, 354155)\n",
            "('Narcos', 15.0, 50.0, 'Biography, Crime, Drama', 8.8, 467909)\n",
            "('Daredevil', 15.0, 60.0, 'Action, Crime, Drama', 8.6, 472940)\n",
            "('Sense8', 15.0, 60.0, 'Drama, Mystery, Sci-Fi', 8.2, 162528)\n",
            "('Jessica Jones', 15.0, 56.0, 'Action, Crime, Drama', 7.9, 226187)\n",
            "('House of Cards', 18.0, 50.0, 'Drama', 8.6, 529463)\n",
            "('The End of the F***ing World', 15.0, 25.0, 'Adventure, Comedy, Crime', 8.0, 218483)\n",
            "('Dark', 15.0, 60.0, 'Crime, Drama, Mystery', 8.7, 440321)\n",
            "('Sex Education', 18.0, 60.0, 'Comedy, Drama, Romance', 8.3, 348817)\n",
            "('Elite', 15.0, 60.0, 'Crime, Drama, Thriller', 7.2, 90237)\n",
            "('You', 15.0, 45.0, 'Crime, Drama, Romance', 7.7, 297650)\n",
            "('Chilling Adventures of Sabrina', 15.0, 60.0, 'Drama, Fantasy, Horror', 7.4, 107853)\n",
            "('The OA', 15.0, 60.0, 'Drama, Fantasy, Mystery', 7.8, 115239)\n",
            "('The Punisher', 18.0, 60.0, 'Action, Crime, Drama', 8.4, 263516)\n",
            "('The Umbrella Academy', 15.0, 60.0, 'Action, Adventure, Comedy', 7.9, 273779)\n",
            "('Iron Fist', 18.0, 55.0, 'Action, Adventure, Crime', 6.4, 139364)\n",
            "('Luke Cage', 15.0, 55.0, 'Action, Crime, Drama', 7.2, 139241)\n",
            "('Atypical', 12.0, 30.0, 'Comedy, Drama', 8.2, 103009)\n",
            "('Big Mouth', 18.0, 30.0, 'Animation, Comedy, Romance', 7.8, 89033)\n",
            "('The Rain', 15.0, 45.0, 'Drama, Sci-Fi, Thriller', 6.3, 41355)\n",
            "('The Defenders', 15.0, 50.0, 'Action, Adventure, Crime', 7.2, 116048)\n",
            "('The Crown', 15.0, 60.0, 'Biography, Drama, History', 8.6, 255352)\n",
            "('A Series of Unfortunate Events', None, 50.0, 'Adventure, Comedy, Drama', 7.7, 66482)\n",
            "('Insatiable', 15.0, 45.0, 'Comedy, Drama, Thriller', 6.5, 32495)\n",
            "('Mindhunter', 18.0, 60.0, 'Crime, Drama, Mystery', 8.6, 333075)\n",
            "('0.03', 15.0, 49.0, 'Action, Drama, Sci-Fi', 7.3, 28008)\n",
            "('Altered Carbon', 18.0, 60.0, 'Action, Drama, Sci-Fi', 7.9, 187859)\n",
            "('The Haunting of Hill House', 15.0, 56.0, 'Drama, Horror, Mystery', 8.6, 286535)\n",
            "('Santa Clarita Diet', 15.0, 30.0, 'Comedy, Horror', 7.8, 75813)\n",
            "('Disenchantment', 15.0, 30.0, 'Animation, Action, Adventure', 7.2, 72503)\n",
            "('BoJack Horseman', 18.0, 25.0, 'Animation, Comedy, Drama', 8.8, 186993)\n",
            "('Girlboss', 15.0, 26.0, 'Comedy', 7.0, 19687)\n",
            "('Ozark', 18.0, 60.0, 'Crime, Drama, Thriller', 8.5, 344631)\n",
            "('Lost in Space', 12.0, 60.0, 'Adventure, Drama, Family', 7.3, 105388)\n",
            "('Baby', 15.0, 50.0, 'Drama', 6.8, 13083)\n",
            "('Unbreakable Kimmy Schmidt', 12.0, 30.0, 'Comedy', 7.6, 78450)\n",
            "('Everything Sucks!', 15.0, 30.0, 'Comedy, Drama', 7.4, 23120)\n",
            "('Cable Girls', 15.0, 50.0, 'Drama', 7.5, 16087)\n",
            "('The Last Kingdom', 18.0, 60.0, 'Action, Drama, History', 8.5, 164641)\n",
            "('The Society', 15.0, 58.0, 'Drama, Mystery, Sci-Fi', 7.1, 36504)\n",
            "('Maniac', 18.0, 36.0, 'Comedy, Drama, Sci-Fi', 7.7, 86275)\n",
            "('Gilmore Girls: A Year in the Life', 12.0, 95.0, 'Comedy, Drama', 7.5, 44543)\n",
            "('Russian Doll', 18.0, 30.0, 'Comedy, Drama, Mystery', 7.7, 106602)\n",
            "('Castlevania', 15.0, 23.0, 'Animation, Action, Adventure', 8.3, 79792)\n",
            "('On My Block', 15.0, 30.0, 'Comedy, Drama', 7.8, 19427)\n",
            "('Marco Polo', 15.0, 60.0, 'Action, Adventure, Drama', 8.0, 78306)\n",
            "('Grace and Frankie', 15.0, 30.0, 'Comedy', 8.2, 56789)\n",
            "('Love, Death & Robots', 18.0, 15.0, 'Animation, Short, Action', 8.4, 195422)\n",
            "('Dear White People', 15.0, 30.0, 'Comedy, Drama', 6.4, 26364)\n",
            "('Safe', 15.0, 44.0, 'Crime, Drama, Mystery', 7.2, 51704)\n",
            "('Greenhouse Academy', None, 25.0, 'Adventure, Comedy, Drama', 6.6, 6921)\n",
            "(\"RuPaul's Drag Race\", 15.0, 63.0, 'Game-Show, Reality-TV', 8.5, 23189)\n",
            "('The Order', 15.0, 60.0, 'Drama, Fantasy, Horror', 6.7, 33053)\n",
            "('Fuller House', None, 30.0, 'Comedy, Drama, Family', 6.7, 29332)\n",
            "('Travelers', 15.0, 45.0, 'Drama, Mystery, Sci-Fi', 8.0, 63928)\n",
            "('Master of None', 15.0, 30.0, 'Comedy, Drama', 8.2, 76143)\n",
            "('Love', 15.0, 50.0, 'Comedy, Drama, Romance', 7.6, 45854)\n",
            "('Narcos: Mexico', 15.0, 60.0, 'Crime, Drama', 8.4, 92447)\n",
            "('The Hookup Plan', 15.0, 27.0, 'Comedy, Romance', 7.1, 5910)\n",
            "('One Day at a Time', 15.0, 30.0, 'Comedy, Drama', 8.2, 18238)\n",
            "('Between', 15.0, 60.0, 'Drama, Mystery, Sci-Fi', 5.9, 9906)\n",
            "('GLOW', 18.0, 35.0, 'Comedy, Drama, Sport', 8.0, 50376)\n",
            "('Making a Murderer', 15.0, 60.0, 'Documentary, Crime', 8.5, 102505)\n",
            "('Gypsy', 15.0, 51.0, 'Drama, Thriller', 6.7, 18683)\n",
            "('The Get Down', 15.0, 52.0, 'Drama, Music, Musical', 8.2, 23633)\n",
            "('The Protector', 15.0, 45.0, 'Action, Adventure, Drama', 6.4, 36866)\n",
            "('Friends from College', 18.0, 30.0, 'Comedy, Drama', 6.9, 23324)\n",
            "('Arrested Development', 15.0, 22.0, 'Comedy', 8.7, 323189)\n",
            "('Hemlock Grove', 15.0, 46.0, 'Drama, Fantasy, Horror', 7.0, 42524)\n",
            "('Slasher', 18.0, 60.0, 'Crime, Drama, Horror', 6.7, 16830)\n",
            "('F Is for Family', 15.0, 30.0, 'Animation, Comedy, Drama', 8.0, 41074)\n",
            "('The Ranch', 15.0, 30.0, 'Comedy, Drama, Western', 7.5, 42401)\n",
            "('American Vandal', 15.0, 34.0, 'Comedy, Crime, Drama', 8.1, 32985)\n",
            "('Dead to Me', 15.0, 30.0, 'Comedy, Crime, Drama', 7.9, 99440)\n",
            "('Quicksand', 18.0, 45.0, 'Crime, Drama, Mystery', 7.4, 25507)\n"
          ]
        }
      ]
    },
    {
      "cell_type": "markdown",
      "source": [],
      "metadata": {
        "id": "Gu1l4_yQ32Ib"
      }
    }
  ]
}